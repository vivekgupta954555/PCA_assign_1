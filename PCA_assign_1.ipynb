{
 "cells": [
  {
   "cell_type": "markdown",
   "id": "a3720296-76f7-45cd-afc0-1b92701078c8",
   "metadata": {},
   "source": [
    "# QUES NO 1"
   ]
  },
  {
   "cell_type": "code",
   "execution_count": null,
   "id": "4cb8c92e-e507-448d-b6ed-ea0d960f8340",
   "metadata": {},
   "outputs": [],
   "source": [
    "Dimensionality reduction is a technique used to reduce the number of features in a dataset while retaining \n",
    "as much of the important information as possible. In other words, it is a process of transforming\n",
    "high-dimensional data into a lower-dimensional space that still preserves the essence of the original data.\n",
    "\n",
    "In machine learning, high-dimensional data refers to data with a large number of features or variables.\n",
    "The curse of dimensionality is a common problem in machine learning, where the performance of the\n",
    "model deteriorates as the number of features increases. This is because the complexity of the model\n",
    "increases with the number of features, and it becomes more difficult to find a good solution. \n",
    "In addition, high-dimensional data can also lead to overfitting, where the model fits the training data\n",
    "too closely and does not generalize well to new data.\n",
    "IMPORTANCE OF REDUCTION OF DIMENSIONALITY\n",
    "-Dimensionality reduction can help to mitigate these problems by reducing the complexity of the model\n",
    "and improving its generalization performance\n",
    "- New  data can be recognised and generalized in well manner \n",
    "- Overfitting can be reduced"
   ]
  },
  {
   "cell_type": "markdown",
   "id": "12c7e068-2bfd-4f08-923b-7f5943589069",
   "metadata": {},
   "source": [
    "# QUES NO 2"
   ]
  },
  {
   "cell_type": "code",
   "execution_count": null,
   "id": "39ec3824-97bf-49e8-8b06-21abc0fbed73",
   "metadata": {},
   "outputs": [],
   "source": [
    "the performance of the model decreases as the number of features increases. This is because the complexity\n",
    "of the model increases with the number of features In addition, high-dimensional \n",
    "data can also lead to overfitting, where the model fits the training data too closely and does not generalize\n",
    "well to new data."
   ]
  },
  {
   "cell_type": "markdown",
   "id": "5704b716-545b-4bc7-b48b-40ad8ea2e87b",
   "metadata": {},
   "source": [
    "# QUES NO 3"
   ]
  },
  {
   "cell_type": "code",
   "execution_count": null,
   "id": "744e5af1-f26f-4750-b32c-527ff8a6b803",
   "metadata": {},
   "outputs": [],
   "source": [
    "Consequences of the dimensionality on the ML model\n",
    "1 - It create a huge impact on the performance of the model as it decreses with increases in the feature which\n",
    "is not vary important \n",
    "2 - It does not generalised  and recognised well the new data\n",
    "3 - Model get overfitted \n",
    "Impact of dimension on the model \n",
    "1 - Model accuracy is decresed \n",
    "2 - Complexity will increased due to large number of data"
   ]
  },
  {
   "cell_type": "markdown",
   "id": "e308c0d0-a268-4772-b454-44c9daeaae2b",
   "metadata": {},
   "source": [
    "# QUES NO 4"
   ]
  },
  {
   "cell_type": "code",
   "execution_count": null,
   "id": "4c69d888-6c30-483b-88cc-8a3cc82e40b1",
   "metadata": {},
   "outputs": [],
   "source": [
    "Feature Selection:\n",
    "Feature selection involves selecting a subset of the original features that are most relevant to the problem \n",
    "at a time. The goal is to reduce the dimensionality of the dataset while retaining the most important\n",
    "features. There are several methods for feature selection, including filter methods, wrapper methods, and\n",
    "embedded methods. Filter methods rank the features based on their relevance to the target variable, \n",
    "wrapper methods use the model performance as the criteria for selecting features, and embedded \n",
    "methods combine feature selection with the model training process."
   ]
  },
  {
   "cell_type": "markdown",
   "id": "da1b56bd-14b6-49de-89e0-b60ea9f75578",
   "metadata": {},
   "source": [
    "# QUES NO 5"
   ]
  },
  {
   "cell_type": "code",
   "execution_count": null,
   "id": "576ed6ba-1d22-4310-b474-e9913db263d6",
   "metadata": {},
   "outputs": [],
   "source": [
    "Limitation of the dimensionality reduction \n",
    "Data loss: Dimensionality reduction can lead to some data loss, which can affect the performance\n",
    "of subsequent training algorithms.\n",
    "Computational intensity: Dimensionality reduction can be computationally intensive.\n",
    "Interpretability: Transformed features are often hard to interpret.\n",
    "Disadvantage of dimensionality reduction\n",
    "It helps in data compression, and hence reduced storage space.\n",
    "It reduces computation time.\n",
    "It also helps remove redundant features, if any.\n",
    "Improved Visualization: High dimensional data is difficult to visualize, and dimensionality reduction \n",
    "techniques can help in visualizing the data in 2D or 3D, which can help in better understanding and analysis.\n",
    "Overfitting Prevention: High dimensional data may lead to overfitting in machine learning models,\n",
    "which can lead to poor generalization performance. Dimensionality reduction can help in reducing the \n",
    "complexity of the data, and hence prevent overfitting."
   ]
  },
  {
   "cell_type": "markdown",
   "id": "61c25322-33c6-4f18-91d8-f0ac12f1584f",
   "metadata": {},
   "source": [
    "# QUES NO 6"
   ]
  },
  {
   "cell_type": "code",
   "execution_count": null,
   "id": "39d0b0c9-3a22-47c3-a794-b096a8ffef22",
   "metadata": {},
   "outputs": [],
   "source": [
    "Impact of the curse of dimensionality on the overfitting and underfitting\n",
    "With increses on the number of the feature there is increases in the overfitting of the model as it directly\n",
    "proportional and underfitting is occoured when it does not learn the pattern in the training data and \n",
    "cannot generalised the new data point so yes it is also alterd with increases in the number of the feature"
   ]
  },
  {
   "cell_type": "markdown",
   "id": "65f3b82f-b6db-472a-97b7-ea4d32799c33",
   "metadata": {},
   "source": [
    "# QUES NO 7"
   ]
  },
  {
   "cell_type": "code",
   "execution_count": null,
   "id": "60f2d18b-762d-493c-b865-be3a222e5dee",
   "metadata": {},
   "outputs": [],
   "source": [
    "There are number of ways by which we can select the number of the feature by which the performance and \n",
    "accuracy of the model can be enhanced \n",
    "1 = By checking the correlation between the different feature \n",
    "2 = by using the feature extraction technique \n",
    "3 = by using the feature selection"
   ]
  },
  {
   "cell_type": "code",
   "execution_count": null,
   "id": "e2c97403-99ab-46a4-8fd8-2b750bbd5881",
   "metadata": {},
   "outputs": [],
   "source": []
  },
  {
   "cell_type": "code",
   "execution_count": null,
   "id": "0657b94f-1f4b-4d42-b388-11c97627b51d",
   "metadata": {},
   "outputs": [],
   "source": []
  }
 ],
 "metadata": {
  "kernelspec": {
   "display_name": "Python 3 (ipykernel)",
   "language": "python",
   "name": "python3"
  },
  "language_info": {
   "codemirror_mode": {
    "name": "ipython",
    "version": 3
   },
   "file_extension": ".py",
   "mimetype": "text/x-python",
   "name": "python",
   "nbconvert_exporter": "python",
   "pygments_lexer": "ipython3",
   "version": "3.10.8"
  }
 },
 "nbformat": 4,
 "nbformat_minor": 5
}
